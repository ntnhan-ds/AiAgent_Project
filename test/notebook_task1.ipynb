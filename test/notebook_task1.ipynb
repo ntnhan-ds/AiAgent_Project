{
 "cells": [
  {
   "cell_type": "code",
   "execution_count": 33,
   "metadata": {},
   "outputs": [],
   "source": [
    "import pandas as pd\n",
    "import json \n",
    "import requests\n",
    "import os\n",
    "from dotenv import load_dotenv"
   ]
  },
  {
   "cell_type": "code",
   "execution_count": 34,
   "metadata": {},
   "outputs": [
    {
     "data": {
      "text/plain": [
       "True"
      ]
     },
     "execution_count": 34,
     "metadata": {},
     "output_type": "execute_result"
    }
   ],
   "source": [
    "load_dotenv()"
   ]
  },
  {
   "cell_type": "code",
   "execution_count": 35,
   "metadata": {},
   "outputs": [],
   "source": [
    "API_KEY = os.getenv(\"API_KEY\")\n",
    "CHAIN_ID = \"1\"  "
   ]
  },
  {
   "cell_type": "code",
   "execution_count": 36,
   "metadata": {},
   "outputs": [],
   "source": [
    "with open(\"wallet_address.txt\", \"r\") as file:\n",
    "    wallet_addresses = [line.strip() for line in file.readlines()]\n",
    "\n",
    "# Get data token holdings\n",
    "def get_wallet_holdings(wallet_address):\n",
    "    url = f\"https://api.covalenthq.com/v1/{CHAIN_ID}/address/{wallet_address}/balances_v2/\"\n",
    "    params = {\"key\": API_KEY}\n",
    "    response = requests.get(url, params=params)\n",
    "    \n",
    "    if response.status_code == 200:\n",
    "        return response.json()\n",
    "    else:\n",
    "        print(f\"Error while query {wallet_address}: {response.status_code}\")\n",
    "        return None\n",
    "\n"
   ]
  },
  {
   "cell_type": "code",
   "execution_count": 37,
   "metadata": {},
   "outputs": [],
   "source": [
    "# wallet_data=[]\n",
    "\n",
    "# for wallet in wallet_addresses:\n",
    "#     data=get_wallet_holdings(wallet)\n",
    "#     # print(json.dumps(data,indent=4))\n",
    "#     wallet_data.append(data)\n",
    "\n",
    "# with open(\"wallet_data.json\",\"w\") as f:\n",
    "#     json.dump(wallet_data,f,indent=4)\n"
   ]
  },
  {
   "cell_type": "code",
   "execution_count": 38,
   "metadata": {},
   "outputs": [],
   "source": [
    "with open(\"wallet_data.json\",\"r\") as f:\n",
    "    wallet_data=json.load(f)"
   ]
  },
  {
   "cell_type": "code",
   "execution_count": null,
   "metadata": {},
   "outputs": [
    {
     "name": "stdout",
     "output_type": "stream",
     "text": [
      "{'OL': 2300.3120228117, 'ETH': 29681.876610832012, 'BIGTIME': 0.0, 'USDC': 8753.049011654, 'WETH': 11855.438350999999, 'USD0 [www.usual.finance]': 0.0, 'BEAM': 5229.58735700058, 'MAVIA': 3.5124998, 'GF': 0.0076374, 'blvtUSDC': 0.0, 'WAGMIGAMES': 1034.7145, 'WAVAX': 833.1505, 'PRIME': 801.0212, 'SFUND': 747.9417, 'DIA': 634.6812, 'POND': 511.17126, 'IMX': 438.7854, 'ATH': 277.9772, 'BLANK': 20.702888400000003, 'XSGD': 0.32179713, 'WBTC': 0.0, 'VIRTUAL': 0.0, 'KERMIT': 0.0, 'MC': 0.0, 'USDT': 949.400211, None: 0.0, 'PETER': 0.0, 'PATH': 0.0, 'SIGMA': 0.0, 'SMCUNILP': 0.0, 'SMC': 0.0, 'Get $VIRTUAL Airdrop at https://virtuals-labs.com': 0.0, 'Buddy': 0.0, 'HEART': 0.0, 'FCOB': 0.0, 'UNI-V2': 0.0, 'Kishui.org': 0.0, 'sMCUNILPV2': 0.0, 'EMC': 0.0, 'TOMI': 0.0086356, 'SIPHER': 37685.29566840004, 'BLOOD': 0.0, 'RWASTE': 0.0, 'LMR': 0.0, 'APE': 0.0, '1CAT': 0.0, 'ZRO': 0.0, 'PEAQ': 0.0, 'ANLOGPS': 0.0, 'sSIPHER': 0.0, 'eSIPHER': 0.0, 'BANK': 5.9244402, 'STRK': 0.0066070664, 'NOOB': 0.0, 'BAT': 0.3384948, 'MATIC': 161.29620625351907, 'LIZ': 0.0, 'BNB': 0.0, 'weETH': 0.0, 'veAethir': 0.0, 'stAethir': 0.0, 'PEPE': 113109.3347, 'DGEN': 42.587997, 'DRGN': 22.64551, 'CHKN': 12.994686, 'DAI': 11.655785999999999, 'GUA': 2.2016788, 'UNBNK': 0.5340388, 'LDO': 0.008806056, 'NFTX': 0.0034371784, 'LIT': 21.58963896, 'TVK': 0.00044682052, 'GAS': 5.58787185232, 'SUBF': 0.00027269125, 'RIOT': 8.975493e-06, '$MONG': 0.0, 'X2Y2': 3.53226246, 'SOS': 2.636737959, 'INV': 0.0, 'RADAR': 55.211454, 'WEN': 0.0, 'dogwifhat': 0.0, 'PORK': 0.0, 'ENS': 84.24805, 'LOOKS': 0.54510142, 'ZOO': 0.0, 'MAX': 0.0, 'MOAR': 0.0, 'PRL': 0.0, 'Get additional $PEPE reward at https://pepev3.org': 0.0, 'MONTE': 0.0, 'IDM': 0.0, 'Aguri': 0.0, 'WAR3': 0.0, '': 0.0, '$HAMSTR': 0.0, 'AKYE': 0.0, 'ANFD': 0.0, 'TIP': 0.0, 'CHKN Airdrop Ticket | https://chickencoin.gift': 0.0, 'OAK': 0.0, '🐱': 0.0, 'SCX': 0.0, 'WET': 0.0, 'OPQ': 0.0, 'SHL': 0.0, 'LIGMA': 0.0, 'HORSE': 0.0, 'IAG': 0.0, 'TEE': 0.0, 'GNCAT': 0.0, 'WTF': 0.0, 'TKNFY': 0.0, 'NEWSOM': 0.0, 'Dragon': 0.0, 'FXY': 0.0, 'LOVE': 0.0, 'sTKNFY': 0.0, 'AOC': 0.0, 'VAPOR': 0.0, 'Get $SYLVE reward at https://sylvesterlabs.org': 0.0, 'ART': 0.0, 'C8': 0.0, 'Claim $PEPE reward at https://pepev3.org': 0.0, 'sL3P': 0.0, 'L3P': 0.0, 'SYLVE': 0.0, 'METH': 0.0, 'veSOS': 0.0, 'NFTism': 0.0, 'PINT': 0.0, 'sILV2': 77.08728330044278, 'UNI': 0.0, 'QNT': 0.0, 'LINK': 438.16165, 'ILV': 642.32017, 'OGN': 0.0, 'GALA': 10.95354, 'Bonk': 0.0, 'BTT': 0.0, 'BEND': 0.9767292599999999, 'BLUR': 33.92109945824, 'GOD': 44.28613, 'HOP': 0.0, 'LEAF': 0.0, 'BYTES': 0.0, 'CHR': 0.0, 'Claim $MAVIA Reward at https://mavia-reward.org': 0.0, 'A8': 0.2018453, 'YGG': 2.4961774, 'NC-Eligible (Verify: claim.nodecoin.finance)': 0.0, 'NFTL': 15.309934, '$DinoEggs': 0.0, 'FISH': 0.0, 'TRX': 35.335377, 'PEIPEI': 10.447568, 'PBR': 0.9501369, 'POLC': 0.0, 'RIDGE': 0.0, 'RBC': 0.0, 'AIOZ': 112.5, 'ERN': 104.16000000000001, 'SHFT': 0.14844003, 'mETH': 0.0146019787, 'rETH2': 0.0, 'sETH2': 0.0, 'CARDS': 0.0, 'staked-LABS-ETH-Uni-v2-LP': 0.0, 'KS SLP SIPHER-ETH': 0.0, 'LABS': 0.0, 'DMM-LP SIPHER-WETH': 0.0, 'Claim $ERN reward at https://ethernitylabs.com': 0.0, 'sKyber SLP SIPHER-ETH': 0.0, 'CARDSV2': 0.0, 'aSTETH': 2.709789, 'stETH': 22035.813477, 'LOKA': 0.0, 'LOOT': 0.0, 'XY': 0.0, 'ELOOT': 0.0, 'variableDebtUSDC': 0.0, 'SLOOT': 0.0, 'INT': 0.0, 'TOWER': 0.6329606, 'REVV': 0.0, 'AGENTS': 0.0, 'MOOK': 0.0, 'SLP': 0.0, 'PROS': 21.906507, 'TRADE': 0.0, 'OAX': 0.0, 'OCEAN': 0.0, 'LID': 0.0, 'MMF': 0.0, 'MATTER': 0.0, 'REKT': 1204.574774, 'POL': 3.2513324e-08, 'DARK': 0.0, 'SWELL': 0.0, 'OHM': 0.0, 'blobs': 0.0, 'TURBO': 0.0, 'MAGIC': 0.0, 'EIGEN': 25.065306, 'VRA': 0.0, 'ENJ': 0.0, 'swETH': 0.5583266, 'rswETH': 0.27895552, 'sOHM': 0.0, 'TREAT': 0.0, 'MASK': 2.312, 'rSWELL': 0.0, 'SPARK': 0.0, 'daddy': 0.0, 'PIPO': 0.0, 'yaySTONE': 0.0, 'MAGA': 0.0, 'PYR': 7053.3164, 'MARS4': 0.003642, 'MOON': 0.0, 'Get $PYR reward at https://vulcanforgedcorp.com': 0.0, 'ISLAND': 512.13605, 'AXS': 0.0, 'BANANA': 0.0, 'DAO': 0.0, 'PAID': 0.0, 'MRT': 0.0, 'AGA': 39.619373, 'ALT': 33.709045, 'ORDER': 31.0248172, 'MEME': 4.8356122699999995, 'rsETH': 4.1427498201, 'ETHx': 0.051264191088999995, 'eETH': 0.4139695800000054, 'MNT': 0.0, 'mkUSD': 0.0, 'GOG': 0.0012667013, 'sfrxETH': 0.0, 'ETHFI': 0.0, 'Claim $rsETH reward at https://kelplabs.org': 0.0, 'BEAN3CRV-f': 0.0, 'Claim $MEME reward at https://memev2.org': 0.0, 'Get $ETHFI reward at https://etherfilabs.com': 0.0, 'Claim $ALT airdrop at https://altlayerdao.com': 0.0, 'LRDS': 8.433264, 'BPT': 4.03661497, 'MIR': 0.0, 'BID': 0.0, 'SAND': 0.5642, 'ORAI': 0.0, 'PAINT': 0.0, 'FTX Token': 0.0, 'WHALE': 0.0, 'OGz': 0.0, 'COMP': 0.0, 'OF': 0.0, 'MOCA': 0.0, 'TNT': 0.0, 'GENART': 0.0, 'MKT2': 0.0, 'WIZ': 0.0, '1337': 0.0, 'BONES': 0.0, 'PEACE': 0.0, 'KNV': 0.0, 'EGGS': 0.0, 'FF': 0.0, 'ALEX': 0.0, 'FIRST': 0.0, 'RNG': 0.0, 'WIPC': 0.0, 'SKULL': 0.0, 'MNFT': 0.0, 'DABER': 0.0, 'HUE': 0.0, '🧕': 0.0, 'MORK': 0.0, 'SUDO': 10089.65, 'XMON': 3196.281, 'AGLD': 1149.0, 'GEAR': 1129.2924, 'FLAY': 934.368, 'BOTTO': 473.0, 'SWAP': 192.39088, 'CVP': 114.040634, 'SATA': 96.8365, 'ZKB': 69.22103, 'ASTRO': 50.424355, 'BNT': 48.5506, 'CVX': 44.21122, 'MACHINA': 33.895683, 'cvxCRV': 30.441322, 'CRV': 27.7107, 'IX': 25.820328, 'UFO': 18.94, 'MTLX': 18.530794, 'ITGR': 17.604698, 'UMA': 17.1369, 'VCX': 14.093956, 'K21': 13.269091, 'DOP': 10.6177324, 'CHAIN': 14.118515, 'peUSD': 5.971682, 'SKRT': 4.9827275, 'FCL': 4.8870153, 'FORTH': 3.4892218, 'B20': 3.1541574, 'CAPS': 3.0262, 'DFND': 2.8797998, 'BUMP': 2.067492, 'WAS': 1.764, 'DIGG': 1.0203795, 'BOOP': 3.012009, 'COMBO': 0.7695963, 'YLD': 0.549703, 'INCR': 0.27254277, 'ARMOR': 0.1518, 'xSUSHI': 0.12678991, 'FET': 0.03179278, 'LQTY': 0.00325697, 'SAKE': 0.0, 'STAKE': 0.0, 'HAKKA': 0.0, 'LAYER': 0.0, '1INCH': 0.0, 'bBADGER': 0.0, 'KP3R': 0.0, 'MPL': 0.0, 'BADGER': 0.0, 'BAO': 0.0, 'GHST': 0.0, 'VALUE': 0.0, 'TRU': 0.0, 'FTM': 0.0, 'GDAO': 0.0, 'BZRX': 0.0, 'sUSD': 0.0, 'HEGIC': 0.0, 'LUSD': 0.0, 'CORE': 0.0, 'PREMIA': 0.0, 'LORDS': 0.0, 'SUSHI': 0.0, 'ALPA': 0.0, 'NDX': 0.0, 'FEI': 0.0, 'CRO': 0.0, 'GSWAP': 0.0, 'UNCX': 0.0, 'RARE': 0.0, 'LRC': 0.0, 'GYSR': 0.0, 'TRIBE': 0.0, 'UOS': 0.0, 'RGT': 0.0, 'AMPL': 0.0, 'ATRI': 0.0, 'NFD': 0.0, 'MLN': 0.0, 'SHROOM': 0.0, 'ICE': 0.0, 'RARI': 0.0, 'REEF': 0.0, 'SNOW': 0.0, 'cLOOKS': 0.0, 'DONA': 0.0, 'ETHtx': 0.0, 'UniAward.org': 0.0, 'GRO': 0.0, 'VNIL': 0.0, 'xXMON': 0.0, 'aFLOOR': 0.0, 'SOTA': 0.0, 'EON': 0.0, 'TRSH': 0.0, 'xSUSHIB': 0.0, 'DEGEN': 0.0, 'DMND': 0.0, 'miweETH': 0.0, 'PDM': 0.0, 'sFLOOR': 0.0, 'MOON-V1-ETH-AMPL': 0.0, 'imBTC': 0.0, 'bSLP': 0.0, 'Rainbows': 0.0, 'vUSD': 0.0, 'HOPE': 0.0, 'DFD': 0.0, '$PAPER': 0.0, 'LXD': 0.0, 'uTVL-0621': 0.0, 'JEM': 0.0, 'bUNI-V2': 0.0, 'dNDX': 0.0, 'mbBASED': 0.0, 'SH': 0.0, 'YFL': 0.0, '$BASED': 0.0, 'KLUB': 0.0, 'bcvxCRV': 0.0, 'veFLOOR': 0.0, 'OM': 0.0, 'FORCE': 0.0, 'MELON': 0.0, 'UNCL': 0.0, 'XD': 0.0, 'Gvy': 0.0, 'SYFI': 0.0, 'QUACK': 0.0, 'rAAVE': 0.0, 'pop-rsETH-gauge': 0.0, 'crvGEARETH-f-gauge': 0.0, 'ELT': 0.0, 'GP': 0.0, 'sILV': 0.0, 'RPTC': 0.0, 'FLOOR': 0.0, 'TOKEN': 0.0, 'vSODA-ETH-UNI-V2-LP': 0.0, 'ToshiCoin': 0.0, '$AAPL': 0.0, 'YFV': 0.0, 'BREE': 0.0, 'xBPT': 0.0, 'NIL': 0.0, 'byvWBTC': 0.0, 'GLIX': 0.0, 'OKGLD': 0.0, 'esLBR': 0.0, 'ETHmx': 0.0, 'BUBBLE': 0.0, 'bimBTC': 0.0, 'crvGEARETH-f': 0.0, 'YIELD': 0.0, 'DROPT-3': 0.0, 'GLO': 0.0, 'wMBX': 0.0, 'EEEE': 0.0, 'crkVSS': 0.0, 'BASTARD': 0.0, 'PANTHER': 0.0, 'MOON-V1-ETH-UNI': 0.0, 'SODA': 0.0, 'bDIGG': 0.0, 'ATMX': 0.0, 'ATIME': 0.0, 'UNII': 0.0, 'OST': 0.0, 'wibBTC': 0.0, 'RSR': 0.0, 'Game': 0.0, 'YFBETA': 0.0, 'UCO': 0.0, 'NCT': 0.0, 'KEP': 0.0, 'vAPE': 0.0, 'DK': 0.0, 'mBTC': 0.0, 'anyFSN': 0.0, 'DHCP': 0.0, 'xCVP': 0.0, 'SPICE': 0.0, 'DOKI': 0.0, '$ROPE': 0.0, 'SoETH': 0.0, 'DPL': 0.0, 'st1INCH': 0.0, 'wCRES': 0.0, 'SPORE': 0.0, 'MUTANT': 0.0, 'FRAME': 0.0, 'FRAK': 0.0, 'FFF': 0.0, 'CWS': 0.0, 'oVCX': 0.0, 'FLOAT': 0.0, 'LOTTO': 0.0, 'gFLOOR': 0.0, 'VAMP': 0.0, 'YETI': 0.0, 'nftdns': 0.0, 'LOCK': 0.0, 'Sunder': 0.0, 'Orb8': 0.0, 'FGEN': 0.0, 'ROYAL': 0.0, 'BGAN': 0.0, 'ibBTC': 0.0, 'vMANA': 0.0, 'MOON-V1-ETH-RARI': 0.0, 'REFRACT': 0.0, 'BCORE': 0.0, 'NYAN': 0.0, 'ASAP': 0.0, 'sLP': 0.0, 'ONIGIRI': 0.0, 'MOON-V1-LINK-AMPL': 0.0, 'YMEN': 0.0, 'VLP': 0.0, 'stkGRO': 0.0, 'NODE': 0.0, 'xU3LPa': 0.0, 'ibDFD': 0.0, 'MEXP': 0.0, 'LSLP': 0.0, 'SKLSP': 0.0, 'MOON-V1-ETH-BZRX': 0.0, 'SUSHIB': 0.0, 'ZKS': 0.0, 'MORSE': 0.0, 'xFORCE': 0.0, 'CGLD': 0.0, 'SINE': 0.0, 'MEOW': 0.0, 'LOYAL': 0.0, 'TOSHI': 0.0, 'UNC': 0.0, 'WAR': 0.0, 'RURAL': 0.0, 'bUSDC': 0.0, 'BGANPUNK': 0.0, 'DEFI5': 0.0, 'ROBOT': 0.0, 'ibbtc/sbtcCRV-f': 0.0, 'bveCVX': 0.0, 'nICE': 0.0, 'PIXL': 2249.6458, 'KARRAT': 770.25385, 'ZK': 187.2, 'WELL': 29.033157, 'MON': 4.514876, 'MXNA': 2.6699803, 'GMFAM': 0.8312011, 'GALAXIS': 0.667, 'BSKT': 1.0834, 'SPO': 0.481965, 'CGG': 0.8015195, 'L3': 0.0, 'steCRV': 0.0, 'GDBX': 0.0, 'KRUN': 0.0, 'FRXST': 0.0, 'GG': 0.0, 'CHIZ': 0.0, 'Get $KARRAT reward at https://karrat.org': 0.0, 'Get extra $ZK reward at https://polyhedrafi.com': 0.0, 'CARTE': 0.0, 'MCG': 0.0, 'SCRAP': 0.0, 'MSN': 0.0, 'HashAI': 270.75644, 'NAI': 248.07927, 'GPU': 145.08351, 'HYVE': 3.15306, 'ZKHIVE': 0.67006433, 'MOBY': 0.294933, 'Frenship': 0.0, 'NUTS': 0.0, 'SHRAP': 81.43561, 'BUSD': 0.7828404, 'DOGE': 1038.612, 'HARAM': 6.924184, 'CATALORIAN': 0.0, 'PUSSY': 0.0, 'RUNE': 0.0, 'JUNGLE': 0.0, 'LFG': 0.0, 'Metanaut': 0.0, 'SAITAMA': 0.0, 'Zuki': 0.0, 'AAVE': 0.0, 'ALCH': 0.0, 'DGX': 0.0, 'GOB': 0.0, 'REVO': 0.0, 'Visit https://lqether.com to claim rewards': 0.0, 'EMBER': 0.0, 'PRQ': 0.0, 'DEVT': 0.0, 'GMEE': 0.0, 'RUSH': 0.0, 'PORTAL': 316.27728, 'LOOMI': 0.0, 'ASH': 1.462, 'ALCX': 0.0, 'KING': 0.0, 'XBMF': 0.0, 'JPEGS': 0.0, 'MORE': 0.0, 'CRE': 0.0033472, 'LSS': 0.0, 'UNIX': 0.0, 'BAM': 0.0, 'WCKD': 0.0, 'HOTM': 0.0, 'WGK': 0.0, 'GANG': 0.0, 'шайлушай': 9.45895, 'BEO': 0.0, 'HQG': 0.0, 'CNHPD': 0.0, 'HAREMS': 0.0, 'Gaia': 0.0, 'VOLT': 0.0, 'sUNI-V2 LP SIPHER-ETH': 0.0, 'NXM': 285.985, 'SKYRIM': 0.6156483, 'Metis': 1.8134831e-07, 'RDN': 0.0, 'DEC': 0.0, 'BXBT': 0.0, 'DENT': 0.0, 'BAZED': 0.0, 'QRDO': 0.0, 'OXT': 0.0, 'LPT': 0.0, 'EFI': 0.0, 'XRUNE': 0.0, 'STONE': 0.0, 'OCTO': 0.0, 'BITCOIN': 0.0, 'GLM': 0.0, 'RFOX': 0.0, 'SNX': 0.0, 'OMG': 0.0, 'SNC': 0.0, 'MRI': 0.0, 'LPBURN': 0.0, 'WENB': 0.0, 'POP': 0.0, 'UBT': 0.0, 'XP': 0.0, 'QSP': 0.0, 'Fyde Points - www.fyde.cc': 0.0, 'AGRI': 0.0, 'GNT': 0.0, 'VNLA': 0.0, 'WORLD': 0.0, 'BAR': 0.0, 'vXRUNE': 0.0, 'TBAR': 0.0, 'VIN': 0.0, 'NTVRK': 0.0, 'MANA': 93.72509, 'LEOX': 1.7825793, 'FETH': 0.0, 'JIRA': 0.0, 'FOOD': 0.0, 'NOUN': 0.0, 'OBEY': 0.0, '$  ClaimBLUR.com': 0.0, 'GUSD': 0.0, 'USDe': 0.0, 'WOJAK': 0.0, 'ENA': 0.0, 'sENA': 0.0, 'crvPlain3andSUSD': 0.0, 'SUPER': 0.0, 'bDPI': 0.0, 'BMI': 0.0, 'WAMI': 0.0, 'yvCurve-UST': 0.0, 'V3Award.com': 0.0, 'ARCADA': 0.0, 'PIPT': 0.0, 'yvCurve-IB': 0.0, 'yvCurve-USDN': 0.0, 'alUSD3CRV-f': 0.0, 'BASK': 0.0, 'usdn3CRV': 0.0, 'ib3CRV': 0.0, 'TRUMP': 0.0, 'yvCurve-sUSD': 0.0, 'yvCurve-LUSD': 0.0, 'SUPER_CAH': 0.0, 'CAT20': 0.0, 'usdp3CRV': 0.0, 'ust3CRV': 0.0, 'yvCurve-alUSD': 0.0, 'GONER': 0.0, 'yvCurve-FRAX': 0.0, 'GM': 0.0, 'yvCurve-USDP': 0.0, 'FRAX3CRV-f': 0.0, 'FNDR': 0.0, 'sDEFI': 0.0, 'LUSD3CRV-f': 0.0, 'ETH69': 0.0, 'SABI': 0.0, 'FRAGZ': 0.0, 'GORE': 0.0, 'UCD': 0.0, 'OG': 0.0, 'AAG': 0.0770512, 'FNC': 0.0, 'WNCG': 0.0, 'PNDC': 0.0, 'ZENI': 0.0, 'FANG': 0.0}\n"
     ]
    }
   ],
   "source": [
    "token_holdings = {}\n",
    "total_value = 0.0\n",
    "\n",
    "for wallet in wallet_data:\n",
    "    for item in wallet['data']['items']:\n",
    "        token_symbol = item['contract_ticker_symbol']\n",
    "        token_value = item['quote'] if item['quote'] is not None else 0.0  \n",
    "        \n",
    "        if token_symbol in token_holdings:\n",
    "            token_holdings[token_symbol] += token_value\n",
    "        else:\n",
    "            token_holdings[token_symbol] = token_value\n",
    "            \n",
    "        total_value += token_value  \n",
    "\n",
    "print(token_holdings)\n"
   ]
  },
  {
   "cell_type": "code",
   "execution_count": 43,
   "metadata": {},
   "outputs": [
    {
     "data": {
      "text/plain": [
       "699"
      ]
     },
     "execution_count": 43,
     "metadata": {},
     "output_type": "execute_result"
    }
   ],
   "source": [
    "len(token_holdings.values())"
   ]
  },
  {
   "cell_type": "code",
   "execution_count": null,
   "metadata": {},
   "outputs": [],
   "source": []
  },
  {
   "cell_type": "code",
   "execution_count": null,
   "metadata": {},
   "outputs": [],
   "source": []
  },
  {
   "cell_type": "code",
   "execution_count": null,
   "metadata": {},
   "outputs": [],
   "source": []
  }
 ],
 "metadata": {
  "kernelspec": {
   "display_name": "base",
   "language": "python",
   "name": "python3"
  },
  "language_info": {
   "codemirror_mode": {
    "name": "ipython",
    "version": 3
   },
   "file_extension": ".py",
   "mimetype": "text/x-python",
   "name": "python",
   "nbconvert_exporter": "python",
   "pygments_lexer": "ipython3",
   "version": "3.11.9"
  }
 },
 "nbformat": 4,
 "nbformat_minor": 2
}
