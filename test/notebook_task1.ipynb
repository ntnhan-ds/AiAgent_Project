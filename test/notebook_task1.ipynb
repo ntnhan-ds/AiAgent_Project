{
 "cells": [
  {
   "cell_type": "code",
   "execution_count": 16,
   "metadata": {},
   "outputs": [],
   "source": [
    "import pandas as pd\n",
    "import json \n",
    "import requests"
   ]
  },
  {
   "cell_type": "code",
   "execution_count": 17,
   "metadata": {},
   "outputs": [],
   "source": [
    "API_KEY = \"cqt_rQBpT889pBtdJRyj4m6vqKDC9x9R\"\n",
    "CHAIN_ID = \"1\"  "
   ]
  },
  {
   "cell_type": "code",
   "execution_count": 18,
   "metadata": {},
   "outputs": [],
   "source": [
    "with open(\"wallet_address.txt\", \"r\") as file:\n",
    "    wallet_addresses = [line.strip() for line in file.readlines()]\n",
    "\n",
    "# Get data token holdings\n",
    "def get_wallet_holdings(wallet_address):\n",
    "    url = f\"https://api.covalenthq.com/v1/{CHAIN_ID}/address/{wallet_address}/balances_v2/\"\n",
    "    params = {\"key\": API_KEY}\n",
    "    response = requests.get(url, params=params)\n",
    "    \n",
    "    if response.status_code == 200:\n",
    "        return response.json()\n",
    "    else:\n",
    "        print(f\"Error while query {wallet_address}: {response.status_code}\")\n",
    "        return None\n",
    "\n"
   ]
  },
  {
   "cell_type": "code",
   "execution_count": 25,
   "metadata": {},
   "outputs": [],
   "source": [
    "wallet_data=[]\n",
    "\n",
    "for wallet in wallet_addresses:\n",
    "    data=get_wallet_holdings(wallet)\n",
    "    # print(json.dumps(data,indent=4))\n",
    "    wallet_data.append(data)\n",
    "\n",
    "with open(\"wallet_data.json\",\"w\") as f:\n",
    "    json.dump(wallet_data,f,indent=4)\n"
   ]
  },
  {
   "cell_type": "code",
   "execution_count": 27,
   "metadata": {},
   "outputs": [],
   "source": [
    "with open(\"wallet_data.json\",\"r\") as f:\n",
    "    wallet_data=json.load(f)"
   ]
  },
  {
   "cell_type": "code",
   "execution_count": null,
   "metadata": {},
   "outputs": [],
   "source": [
    "# Save data\n",
    "wallet_data = []\n",
    "\n",
    "for wallet in wallet_addresses:\n",
    "    data = get_wallet_holdings(wallet)\n",
    "    if data and \"data\" in data:\n",
    "        total_usd_value = 0\n",
    "        tokens = []\n",
    "\n",
    "        for item in data[\"data\"][\"items\"]:\n",
    "            token_name = item[\"contract_name\"]\n",
    "            token_symbol = item[\"contract_ticker_symbol\"]\n",
    "            token_balance = int(item[\"balance\"]) / (10 ** item[\"contract_decimals\"])\n",
    "            token_price = item[\"quote\"]\n",
    "            token_value = token_balance * token_price\n",
    "            \n",
    "            total_usd_value += token_value\n",
    "            tokens.append({\n",
    "                \"Token\": token_name,\n",
    "                \"Symbol\": token_symbol,\n",
    "                \"Balance\": token_balance,\n",
    "                \"Price (USD)\": token_price,\n",
    "                \"Value (USD)\": token_value\n",
    "            })\n",
    "\n",
    "        # Tính phân bổ tài sản (%)\n",
    "        for token in tokens:\n",
    "            token[\"Percentage (%)\"] = (token[\"Value (USD)\"] / total_usd_value) * 100 if total_usd_value > 0 else 0\n",
    "\n",
    "        wallet_data.append({\n",
    "            \"Wallet\": wallet,\n",
    "            \"Total Value (USD)\": total_usd_value,\n",
    "            \"Tokens\": tokens\n",
    "        })\n",
    "\n",
    "# 🔹 Xuất dữ liệu ra file CSV\n",
    "df_list = []\n",
    "for wallet in wallet_data:\n",
    "    for token in wallet[\"Tokens\"]:\n",
    "        df_list.append({\n",
    "            \"Wallet\": wallet[\"Wallet\"],\n",
    "            \"Token\": token[\"Token\"],\n",
    "            \"Symbol\": token[\"Symbol\"],\n",
    "            \"Balance\": token[\"Balance\"],\n",
    "            \"Price (USD)\": token[\"Price (USD)\"],\n",
    "            \"Value (USD)\": token[\"Value (USD)\"],\n",
    "            \"Percentage (%)\": token[\"Percentage (%)\"]\n",
    "        })\n",
    "\n",
    "df = pd.DataFrame(df_list)\n",
    "df.to_csv(\"wallet_analysis.csv\", index=False)\n",
    "\n",
    "print(\"✅ Phân tích hoàn tất! Kết quả đã lưu vào `wallet_analysis.csv` 🎉\")\n"
   ]
  },
  {
   "cell_type": "code",
   "execution_count": null,
   "metadata": {},
   "outputs": [],
   "source": []
  },
  {
   "cell_type": "code",
   "execution_count": null,
   "metadata": {},
   "outputs": [],
   "source": []
  },
  {
   "cell_type": "code",
   "execution_count": null,
   "metadata": {},
   "outputs": [],
   "source": []
  },
  {
   "cell_type": "code",
   "execution_count": null,
   "metadata": {},
   "outputs": [],
   "source": []
  }
 ],
 "metadata": {
  "kernelspec": {
   "display_name": "aiagent_venv",
   "language": "python",
   "name": "python3"
  },
  "language_info": {
   "codemirror_mode": {
    "name": "ipython",
    "version": 3
   },
   "file_extension": ".py",
   "mimetype": "text/x-python",
   "name": "python",
   "nbconvert_exporter": "python",
   "pygments_lexer": "ipython3",
   "version": "3.11.9"
  }
 },
 "nbformat": 4,
 "nbformat_minor": 2
}
